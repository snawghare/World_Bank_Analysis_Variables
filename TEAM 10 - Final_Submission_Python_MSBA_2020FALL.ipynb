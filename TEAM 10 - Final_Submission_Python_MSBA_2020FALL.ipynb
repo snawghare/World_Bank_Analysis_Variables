{
 "cells": [
  {
   "cell_type": "code",
   "execution_count": null,
   "metadata": {},
   "outputs": [],
   "source": []
  },
  {
   "cell_type": "markdown",
   "metadata": {},
   "source": [
    "Introduction\n",
    "--------------------------------------------------------------------------------------\n",
    "\n",
    "For the Data Analysis Team Project, Team 10 has to work on data describing the Eastern European region.\n",
    "\n",
    "Every country in Eastern Europe is famous for different culture and tradition, mostly the region is known for its grain production, specially wheat and its livestock. (1)\n",
    "The introduction focuses on the limitation of the dataset.\n",
    "\n",
    "The dataset includes Eastern European-, Northern European-, as well as Southern European countries all defined as Eastern Europe. \n",
    "\n",
    "According to the United Nations the following countries are classified as Eastern Europe: Belarus, Bulgaria, Czechia, Hungary, Moldova, Poland, Romania, Russia, Slovakia and Ukraine. (2)\n",
    "\n",
    "Multiple sources show strong differences between Eastern and Northern European countries listed in the given dataset together, which makes the evaluation of the data complicating. (3)\n",
    "Various statistics show the pioneering task of Norway, Sweden and Finland not only in Europe but also in the world. (4)\n",
    "\n",
    "Additionally, in the dataset most of the values of Kosovo are missing, which is connected to the newly gained independency in 2008. To this day Kosovo gained diplomatic recognition as a sovereign state by 98 UN member states. (5)\n",
    "\n",
    "Furthermore, numerous data of San Marino is lacking. San Marino is a tiny country which leads to missing relevant statistics like on HIV. Geographically the state is surrounded by Italy therefor the country shows numerous similarities with the Italian-speaking republic. (6)\n",
    "\n",
    "Moreover, Andorra disposes of multiple missing data. The landlocked Principality of Andorra is one of the smallest countries in Europe, which leads again to non-relevant data since the numbers are low. The country is located in between France and Spain, that generates the assumption that the data could be similar to France and especially Spain. Our research showed similar results. (7) \n"
   ]
  },
  {
   "cell_type": "code",
   "execution_count": null,
   "metadata": {},
   "outputs": [],
   "source": []
  },
  {
   "cell_type": "markdown",
   "metadata": {},
   "source": [
    "Strategy for missing values: Our strategy is either complete or exclude the missing value. \n",
    "-------------------------------------------------------------------\n",
    "\n",
    "Step 1: We looked at the missing values of the countries. There are 3 countries who has a majority of absent values. They are Kosovo, San Marino and Andorra. \n",
    "\n",
    "        \"Strategy: Excluding Kosovo, San Marino & Andorra\" \n",
    "-------------------------------------------------------------------------------------------\n",
    "\n",
    "Step 2: After excluding the above 3 countries, we looked at the sum of the missing value of each index. \n",
    "\n",
    "--\tStrategy 1 : Excluding index where 50%+ of the values are missing. In such case, we eliminated the following 5 indicators:\n",
    "  \n",
    "   1.Literacy rate, adult total (% of people ages 15 and above) – 18  \n",
    "   out of 19 are missing.\n",
    "    \n",
    "   2.Net ODA received per capita (current US$) – 13 out of 19 are \n",
    "    missing.\n",
    "    \n",
    "   3.Poverty gap at national poverty lines (Percent) – 17 out of 19 are\n",
    "    missing.\n",
    "    \n",
    "   4.Pregnant women receiving prenatal care (Percent) – 11 out of 19 are\n",
    "   missing.\n",
    "    \n",
    "   5.Reported cases of malaria – 19 out of 19 are missing.\n",
    "\n",
    "-------------------------------------------------------------------------------------------\n",
    "\n",
    "Strategy 2: For the indicators which has 50 Percent + values exist, we went through the data on the World Bank site and fill in the blanks if there are associated existing recent numbers.\n",
    "\n",
    "\n",
    "After running the previous step we complete all the information from the remaining features on our region.\n",
    "\n",
    "In order to compare our region with the whole world, we need to also subset the Global Data. When we apply the same approach to the global Data, we still had some missing values. Therefore, we need to apply another strategy to deal with the remaining missing values\n",
    "\n",
    "-------------------------------------------------------------------------------------------\n",
    "\n",
    "Strategy 3: For the few missing values, we ran the histograms on selected variables as regional data for global values, and check if the Mean or the Median are closer to the middle part. We would adopt either one that is closer to the average to impute. \n",
    "\n",
    "\n"
   ]
  },
  {
   "cell_type": "code",
   "execution_count": null,
   "metadata": {},
   "outputs": [],
   "source": []
  },
  {
   "cell_type": "markdown",
   "metadata": {},
   "source": [
    "HeatMap Explaination and Rationale Contd. \n",
    "--------\n",
    "\n",
    "In order to determine which features we are going to work with, we check for correlations on the economic fields and we found out the 5 most representatives based on higher correlation among them. After deciding on our top 5 features, we decide to compare them with the rest of the world. Therefore, we apply the same logic for the global Data and subset for the columns required."
   ]
  },
  {
   "cell_type": "markdown",
   "metadata": {},
   "source": [
    "<br><br>\n",
    "<div style = \"width:image width px; font-size:80%;text-align:center;\"><img src=\"./Images/heatmap.png\" width= \"5000\" height=\"5000\" style=\"padding-bottom:0.5em;\"> <em>Regional Correl. HeatMap</em></div>"
   ]
  },
  {
   "cell_type": "code",
   "execution_count": null,
   "metadata": {},
   "outputs": [],
   "source": []
  },
  {
   "cell_type": "markdown",
   "metadata": {},
   "source": [
    "Strategy - Rationale Contd.   \n",
    "--------------------------------------------------------------------------------------   \n",
    "After extracting the data from the given Excel sheet for the project with Python, Team 10 decided to focus on the economic data since this part of the statistics shows the best comparison possibilities. \n",
    "\n",
    "Therefore we looked at the values: Contributing family workers, total (% of total employment), Employment to population ratio, 15+, total (%) (modeled ILO estimate),Proportion of seats held by women in national parliaments (%), Self-employed, total (% of total employment), GDP per person employed (constant 2011 PPP Dollar), Mobile cellular subscriptions (per 100 people), and calculated the median of these giving numbers in order to find the average country that represents eastern Europe in the best possible way. The median calculation is shown in the following graph. \n"
   ]
  },
  {
   "cell_type": "markdown",
   "metadata": {},
   "source": [
    "<br><br>\n",
    "<div style = \"width:image width px; font-size:80%;text-align:center;\"><img src=\"./Images/Average_country.jpg\" width= \"5000\" height=\"5000\" style=\"padding-bottom:0.5em;\"> <em>Average_country</em></div>"
   ]
  },
  {
   "cell_type": "markdown",
   "metadata": {},
   "source": [
    "Base Country from the Region: Explaination \n",
    "--------------------------------------------------------------------------------------\n",
    "\n",
    "After evaluating data from all countries from our region, Poland emerged as the median country in most of the given statistics. For example the GDP, probably the best value to describe the economic power of a country, per person of Poland with 47403.79 Dollars is a good valuable but compared to countries like Norway with 121386.64 Dollars or Sweden with 87150.76§ the number is pretty low however not as low like in Albania with 24757.50 Dollars per person. "
   ]
  },
  {
   "cell_type": "code",
   "execution_count": null,
   "metadata": {},
   "outputs": [],
   "source": []
  },
  {
   "cell_type": "markdown",
   "metadata": {},
   "source": [
    "Insights From Graph I & II: Contributing family workers, female (% of female employment)\n",
    "------------------------------\n",
    "\n",
    "\n",
    "This can be defined as the percentage population of female workers who are involved and contribute to family related work or services for free. Having into consideration that this work is for free, we would like this number to be low. The graphs (i)&(ii) illustrate that the percentage of contributing family workers that are female is significantly lower in Eastern Europe as compared to the global scope where its significantly higher. We can say that our region is performing better than the rest of the world in this feature."
   ]
  },
  {
   "cell_type": "markdown",
   "metadata": {},
   "source": [
    "<br><br>\n",
    "<div style = \"width:image width px; font-size:80%;text-align:center;\"><img src=\"./Images/GlobalVsRegional_Variable1.jpg\" width= \"5000\" height=\"5000\" style=\"padding-bottom:0.5em;\"> <em>Contributing Family Members, Female</em></div>"
   ]
  },
  {
   "cell_type": "code",
   "execution_count": null,
   "metadata": {},
   "outputs": [],
   "source": []
  },
  {
   "cell_type": "markdown",
   "metadata": {},
   "source": [
    "Insights from Graph III & IV: Employment to population ratio, 15+, total (%) (modeled ILO estimate)\n",
    "--------------------\n",
    "\n",
    "This can be defined as the proportion of a country’s population aged 15+ years that is actively employed in income generating activities. Having a higher employed to population ratio implies a bigger fraction of a given country’s population is actively employed in income generating activities. Even though a high number means that the population is really active, we would prefer to see a lower number if we take into consideration that people around 15 to 24 years old can be studying before to get a job.  Hence, the graphs (iii)&(iv) illustrate that the fraction of Employment to population ratio, 15+, total (%) in Eastern Europe is lower than the rest of the globe. While in our region the median is close to 50%, we can see that in the whole world, the median is closer to 60%."
   ]
  },
  {
   "cell_type": "markdown",
   "metadata": {},
   "source": [
    "<br><br>\n",
    "<div style = \"width:image width px; font-size:80%;text-align:center;\"><img src=\"./Images/GlobalVsRegional_Variable2.jpg\" width= \"5000\" height=\"5000\" style=\"padding-bottom:0.5em;\"> <em>Employment to population ratio +15 </em></div>"
   ]
  },
  {
   "cell_type": "code",
   "execution_count": null,
   "metadata": {},
   "outputs": [],
   "source": []
  },
  {
   "cell_type": "markdown",
   "metadata": {},
   "source": [
    "Insights from Graph V & VI: Proportion of seats held by women in national parliaments (%) \n",
    "-------\n",
    "\n",
    "This is the percentage of parliamentary seats allocated to women in the national parliament of the selected country or region. Hence the higher the proportion of seats held by women in national parliament, the higher the proportion of female representation in parliament of the country. From graphs (v) & (vi) we can see that the number of seats held by women in our region is between 12 to 21 while in the case of global is between 10 and 22, we can see the presence of outliers in both cases. Therefore, in comparison to the rest of the globe, Eastern Europe has lower proportion of seats held any woman in national parliament."
   ]
  },
  {
   "cell_type": "markdown",
   "metadata": {},
   "source": [
    "<br><br>\n",
    "<div style = \"width:image width px; font-size:80%;text-align:center;\"><img src=\"./Images/GlobalVsRegional_Variable3.jpg\" width= \"5000\" height=\"5000\" style=\"padding-bottom:0.5em;\"> <em>Proportion of seats in parliament, Female</em></div>"
   ]
  },
  {
   "cell_type": "code",
   "execution_count": null,
   "metadata": {},
   "outputs": [],
   "source": []
  },
  {
   "cell_type": "markdown",
   "metadata": {},
   "source": [
    "Insights from Graph VII & VIII: GDP Per Person Employed\n",
    "---------------\n",
    "\n",
    "This can be analyzed as GDP Per Person in Eastern Europe is higher per capita compared to that of Global GDP Per Person. While in the global scenario we can see the GDP going from 5K to 55K, on our region the range is almost twice as that, the GDP for eastern Europe is mostly between 42K and 70K. Even though, we have outliers in both cases we can state that Eastern Europe is realized to have a significantly higher per capita income.\n",
    "\n"
   ]
  },
  {
   "cell_type": "markdown",
   "metadata": {},
   "source": [
    "<br><br>\n",
    "<div style = \"width:image width px; font-size:80%;text-align:center;\"><img src=\"./Images/GlobalVsRegional_Variable4.jpg\" width= \"5000\" height=\"5000\" style=\"padding-bottom:0.5em;\"> <em> GDP Per Person Employed </em></div>"
   ]
  },
  {
   "cell_type": "code",
   "execution_count": null,
   "metadata": {},
   "outputs": [],
   "source": []
  },
  {
   "cell_type": "markdown",
   "metadata": {},
   "source": [
    "Insight from Graph IX & X: Mobile cellular subscriptions (per 100 people)\n",
    "------\n",
    "\n",
    "This is a percentage per every 100 population that has access to affordable mobile telecommunication services in each area or country. Considering results from our graphs (Vii)& (Viii) we can observe that globally speaking, the majority of the people have between 35 – 105 mobile subscriptions per 100 people while in our region the numbers are higher ( 100 – 125). Therefore, we can say that our country is performing better than the rest of the world in this feature. Also, we can explain this big difference with the GDP, our region possesses a higher GDP than the rest of the world. Therefore, people from our region can spend more on services such as mobile subscriptions."
   ]
  },
  {
   "cell_type": "markdown",
   "metadata": {},
   "source": [
    "<br><br>\n",
    "<div style = \"width:image width px; font-size:80%;text-align:center;\"><img src=\"./Images/GlobalVsRegional_Variable5.jpg\" width= \"5000\" height=\"5000\" style=\"padding-bottom:0.5em;\"> <em> Mobile Cellular Subscribers </em></div>"
   ]
  },
  {
   "cell_type": "code",
   "execution_count": null,
   "metadata": {},
   "outputs": [],
   "source": []
  },
  {
   "cell_type": "markdown",
   "metadata": {},
   "source": [
    "References & Citation: \n",
    "--------------------------\n",
    "  \n",
    "1.)\tEastern Europe. (2007). Retrieved November 02, 2020, from http://maps.unomaha.edu/Peterson/geog1000/Notes/Notes_Exam2/EE.html\n",
    "\n",
    "2.)\tEastern Europe. (n.d.). Retrieved October 26, 2020, from https://www.newworldencyclopedia.org/entry/Eastern_Europe\n",
    "\n",
    "3.)\tVukšić, G., Holzner, M., & Grieveson, R. (n.d.). Eastern Europe. Retrieved October 26, 2020, from https://wiiw.ac.at/regional-economic-cooperation-in-the-western-balkans-the-role-of-stabilisation-and-association-agreements-bilateral-investment-treaties-and-free-trade-agreements-in-regional-investment-and-trade-flows-dlp-5362.pdf\n",
    "\n",
    "4.)\tSahgal, N., Cooleren, A., & Gardner, S. (2020, May 31). Eastern and Western Europeans Differ on Importance of Religion, Views of Minorities, and Key Social Issues. Retrieved October 26, 2020, from https://www.pewforum.org/2018/10/29/eastern-and-western-europeans-differ-on-importance-of-religion-views-of-minorities-and-key-social-issues/\n",
    "\n",
    "5.)\tAllcock, J. (2020). Kosovo. Retrieved October 26, 2020, from https://www.britannica.com/place/Kosovo\n",
    "\n",
    "6.)\tCIA Factbook. (2020). Italy vs. San Marino. Retrieved November 02, 2020, from https://www.indexmundi.com/factbook/compare/italy.san-marino\n",
    "\n",
    "7.)\tCIA Factbook. (2020). Spain vs. Andorra. Retrieved November 03, 2020, from https://www.indexmundi.com/factbook/compare/spain.andorra\n"
   ]
  },
  {
   "cell_type": "code",
   "execution_count": null,
   "metadata": {},
   "outputs": [],
   "source": []
  },
  {
   "cell_type": "markdown",
   "metadata": {},
   "source": [
    "# Final Code Script all the above recommendation and analysis: Team 10 = Skids & Mudflap\n",
    "-------"
   ]
  },
  {
   "cell_type": "code",
   "execution_count": null,
   "metadata": {
    "scrolled": true
   },
   "outputs": [],
   "source": [
    "# Step 1: importing pandas\n",
    "import pandas as pd\n",
    "import seaborn as sns\n",
    "import numpy as np\n",
    "import matplotlib.pyplot as plt\n",
    "\n",
    "\n",
    "# Step 2: storing the path to the dataset\n",
    "file = \"./Final_Project_dataset.xlsx\"\n",
    "\n",
    "\n",
    "# Step 3: reading the file into Python through pandas\n",
    "project = pd.read_excel(io = file)\n",
    "\n",
    "\n",
    "# checking results\n",
    "project"
   ]
  },
  {
   "cell_type": "code",
   "execution_count": null,
   "metadata": {},
   "outputs": [],
   "source": [
    "pd.set_option(\"max_rows\", None) #Showing all the columns to get a good look\n",
    "project"
   ]
  },
  {
   "cell_type": "code",
   "execution_count": null,
   "metadata": {
    "scrolled": false
   },
   "outputs": [],
   "source": [
    "print(project.isnull().sum(axis = 1))\n",
    "#check for missing values per row\n",
    "#we should change the number for the name of the country \n",
    "#(Note: Unable to change the numbers to words)"
   ]
  },
  {
   "cell_type": "code",
   "execution_count": null,
   "metadata": {},
   "outputs": [],
   "source": []
  },
  {
   "cell_type": "code",
   "execution_count": null,
   "metadata": {},
   "outputs": [],
   "source": [
    "New_Data = project.drop([0,4,8,9,24,45,46,51,64,65,70,76,77,79,81,87,102,103,110,111,117,118,120,125,132,139,146,153,156,157,160,161,173,176,183,184,186,191,197,206,207,212]) #We put aways the countries that have too many missing values\n",
    "New_Data\n",
    "\n",
    "#We put aways the countries that have too many missing values\n",
    "#check the new data, we can skip this step\n",
    "#check for missing values per column"
   ]
  },
  {
   "cell_type": "code",
   "execution_count": null,
   "metadata": {},
   "outputs": [],
   "source": [
    "#put away the columns with too many missing values (These need to be same \n",
    "#as our regional data, I.E. we skipped these from the regional DF\n",
    "# as we compare Eastern Europe to the World)\n",
    "\n",
    "Drop_List_Columns = [\"Literacy rate, adult total (% of people ages 15 and above)\",\n",
    "                    \"Net ODA received per capita (current US$)\",\n",
    "                   \"Poverty gap at national poverty lines (%)\",\n",
    "                   \"Pregnant women receiving prenatal care (%)\",\n",
    "                   \"Reported cases of malaria\"]\n",
    "\n",
    "Dropped_List = New_Data.drop(Drop_List_Columns,axis = 1) #subseting columns\n",
    "Dropped_List.round(decimals = 2) #visualize the new data"
   ]
  },
  {
   "cell_type": "code",
   "execution_count": null,
   "metadata": {
    "scrolled": true
   },
   "outputs": [],
   "source": [
    "print(Dropped_List.isnull().sum())\n",
    "#check for missing values per column"
   ]
  },
  {
   "cell_type": "code",
   "execution_count": null,
   "metadata": {},
   "outputs": [],
   "source": []
  },
  {
   "cell_type": "code",
   "execution_count": null,
   "metadata": {},
   "outputs": [],
   "source": [
    "clean_data = Dropped_List[[\"Country Name\",\"Contributing family workers, female (% of female employment)\",\n",
    "                \"Contributing family workers, male (% of male employment)\",\n",
    "                \"Contributing family workers, total (% of total employment)\",\n",
    "                \"Employment to population ratio, 15+, female (%) (modeled ILO estimate)\",\n",
    "                \"Employment to population ratio, 15+, male (%) (modeled ILO estimate)\",\n",
    "                \"Employment to population ratio, 15+, total (%) (modeled ILO estimate)\",\n",
    "                \"Proportion of seats held by women in national parliaments (%)\",\n",
    "                \"Self-employed, total (% of total employment)\",\n",
    "                \"Population, total\",\n",
    "                \"GDP per person employed (constant 2011 PPP $)\",\n",
    "                \"GDP per unit of energy use (constant 2011 PPP $ per kg of oil equivalent)\",\n",
    "                \"Income share held by lowest 20%\",\n",
    "                \"Trade (% of GDP)\",\"Mobile cellular subscriptions (per 100 people)\",\n",
    "                                     \"Internet users (per 100 people)\"]].head(n = 19)\n",
    "clean_data\n",
    "\n",
    "#Poland is the avg country\n",
    "#We need to delete some colums\n",
    "#the analysis is focus on the economics"
   ]
  },
  {
   "cell_type": "code",
   "execution_count": null,
   "metadata": {
    "scrolled": true
   },
   "outputs": [],
   "source": [
    "print(clean_data.isnull().sum())"
   ]
  },
  {
   "cell_type": "code",
   "execution_count": null,
   "metadata": {},
   "outputs": [],
   "source": [
    "# displot for 'Income share held by lowest 20%'#\n",
    "\n",
    "# setting figure size\n",
    "fig, ax = plt.subplots(figsize = [8, 5])\n",
    "\n",
    "\n",
    "# histogram for Income share held by lowest 20%\n",
    "\n",
    "sns.distplot(a     = Dropped_List['Income share held by lowest 20%'],\n",
    "             bins  = 'fd',\n",
    "             hist  = True,\n",
    "             kde   = False,\n",
    "             rug   = False,\n",
    "             color = 'black')\n",
    "\n",
    "\n",
    "# titles and labels\n",
    "plt.title(label = 'Distribution of Income share held by lowest 20%')\n",
    "plt.xlabel(xlabel = 'Total Income')\n",
    "plt.ylabel(ylabel = 'Frequency')\n",
    "\n",
    "\n",
    "# New: These add vertical lines to the code\n",
    "plt.axvline(x = clean_data['Income share held by lowest 20%'].mean(),\n",
    "            color = 'red')\n",
    "\n",
    "\n",
    "plt.axvline(x = clean_data['Income share held by lowest 20%'].median(),\n",
    "            color = 'blue')\n",
    "\n",
    "\n",
    "# this adds a legend\n",
    "plt.legend(labels =  ['mean', 'median'])\n",
    "\n",
    "\n",
    "# these compile and display the plot so that it is formatted as expected\n",
    "plt.tight_layout()\n",
    "plt.show()"
   ]
  },
  {
   "cell_type": "code",
   "execution_count": null,
   "metadata": {},
   "outputs": [],
   "source": [
    "# soft coding MEAN for filling missing values 'Income share held by lowest 20%'\n",
    "Income_lowest_mean = Dropped_List['Income share held by lowest 20%'].mean()\n",
    "\n",
    "\n",
    "# filling carat NAs with mean\n",
    "Dropped_List['Income share held by lowest 20%'].fillna(value = Income_lowest_mean,\n",
    "                         inplace = True)\n",
    "\n",
    "\n",
    "# checking to make sure NAs are filled in\n",
    "print(Dropped_List['Income share held by lowest 20%'].isnull().any())"
   ]
  },
  {
   "cell_type": "code",
   "execution_count": null,
   "metadata": {},
   "outputs": [],
   "source": [
    "#ReCHECKING TO SEE IF FIXED THE MISSING VALUE\n",
    "\n",
    "clean_data = Dropped_List[[\"Country Name\",\"Contributing family workers, female (% of female employment)\",\n",
    "                \"Contributing family workers, male (% of male employment)\",\n",
    "                \"Contributing family workers, total (% of total employment)\",\n",
    "                \"Employment to population ratio, 15+, female (%) (modeled ILO estimate)\",\n",
    "                \"Employment to population ratio, 15+, male (%) (modeled ILO estimate)\",\n",
    "                \"Employment to population ratio, 15+, total (%) (modeled ILO estimate)\",\n",
    "                \"Proportion of seats held by women in national parliaments (%)\",\n",
    "                \"Self-employed, total (% of total employment)\",\n",
    "                \"Population, total\",\n",
    "                \"GDP per person employed (constant 2011 PPP $)\",\n",
    "                \"GDP per unit of energy use (constant 2011 PPP $ per kg of oil equivalent)\",\n",
    "                \"Income share held by lowest 20%\",\n",
    "                \"Trade (% of GDP)\"]].head(n = 19)\n",
    "clean_data"
   ]
  },
  {
   "cell_type": "code",
   "execution_count": null,
   "metadata": {},
   "outputs": [],
   "source": [
    "#IMPUTING FOR THE NEXT MISSING VALUE - GDP per unit of energy use (constant 2011 PPP $ per kg of oil equivalent)\n",
    "\n",
    "# setting figure size\n",
    "fig, ax = plt.subplots(figsize = [8, 5])\n",
    "\n",
    "\n",
    "# histogram for GDP per unit of energy use (constant 2011 PPP $ per kg of oil equivalent)\n",
    "\n",
    "sns.distplot(a     = Dropped_List['GDP per unit of energy use (constant 2011 PPP $ per kg of oil equivalent)'],\n",
    "             bins  = 'fd',\n",
    "             hist  = True,\n",
    "             kde   = False,\n",
    "             rug   = False,\n",
    "             color = 'black')\n",
    "\n",
    "\n",
    "# titles and labels\n",
    "plt.title(label = 'GDP per unit of energy use (constant 2011 PPP $ per kg of oil equivalent)')\n",
    "plt.xlabel(xlabel = 'GDP PER UNIT')\n",
    "plt.ylabel(ylabel = 'Frequency')\n",
    "\n",
    "\n",
    "# New: These add vertical lines to the code\n",
    "plt.axvline(x = clean_data['GDP per unit of energy use (constant 2011 PPP $ per kg of oil equivalent)'].mean(),\n",
    "            color = 'red')\n",
    "\n",
    "\n",
    "plt.axvline(x = clean_data['GDP per unit of energy use (constant 2011 PPP $ per kg of oil equivalent)'].median(),\n",
    "            color = 'blue')\n",
    "\n",
    "\n",
    "# this adds a legend\n",
    "plt.legend(labels =  ['mean', 'median'])\n",
    "\n",
    "\n",
    "# these compile and display the plot so that it is formatted as expected\n",
    "plt.tight_layout()\n",
    "plt.show()"
   ]
  },
  {
   "cell_type": "code",
   "execution_count": null,
   "metadata": {},
   "outputs": [],
   "source": [
    "# soft coding MEDIAN -- GDP per unit of energy use (constant 2011 PPP $ per kg of oil equivalent)\n",
    "\n",
    "GDP_PER_UNIT_median = Dropped_List['GDP per unit of energy use (constant 2011 PPP $ per kg of oil equivalent)'].mean()\n",
    "\n",
    "\n",
    "# filling carat NAs with MEDIAN\n",
    "Dropped_List['GDP per unit of energy use (constant 2011 PPP $ per kg of oil equivalent)'].fillna(value = GDP_PER_UNIT_median,\n",
    "                         inplace = True)\n",
    "\n",
    "\n",
    "# checking to make sure NAs are filled in\n",
    "print(Dropped_List['GDP per unit of energy use (constant 2011 PPP $ per kg of oil equivalent)'].isnull().any())"
   ]
  },
  {
   "cell_type": "code",
   "execution_count": null,
   "metadata": {},
   "outputs": [],
   "source": [
    "## Histogram for Contributing family workers, female (% of female employment)\n",
    "\n",
    "sns.distplot(a     = Dropped_List[\"Contributing family workers, female (% of female employment)\"],\n",
    "             bins  = 'fd',\n",
    "             hist  = True,\n",
    "             kde   = False,\n",
    "             rug   = False,\n",
    "             color = 'black')\n",
    "\n",
    "\n",
    "# this adds a title\n",
    "plt.title(label = \"Contributing family workers, female (% of female employment)\")\n",
    "\n",
    "\n",
    "# this adds an x-label\n",
    "plt.xlabel(xlabel = '%of female employment')\n",
    "\n",
    "\n",
    "# this add a y-label\n",
    "plt.ylabel(ylabel = 'Frecuency')"
   ]
  },
  {
   "cell_type": "code",
   "execution_count": null,
   "metadata": {},
   "outputs": [],
   "source": [
    "## Boxplot sns for Contributing family workers, female (% of female employment)\n",
    "\n",
    "fig, ax = plt.subplots(figsize = (10, 5))\n",
    "\n",
    "\n",
    "# developing a boxplot for Contributing family workers, female (% of female employment)\n",
    "\n",
    "sns.boxplot(x      = 'Contributing family workers, female (% of female employment)',   # x-variable\n",
    "            y      = None, # optional y-variable\n",
    "            hue    = None,      # optional categorical feature\n",
    "            orient = 'h',       # horizontal or vertical\n",
    "            data   = Dropped_List)  # DataFrame where features exist\n",
    "\n",
    "\n",
    "# formatting and displaying the plot\n",
    "plt.title(label   = \"\"\"\n",
    "\n",
    "\"\"\")\n",
    "\n",
    "plt.xlabel(xlabel = 'Contributing family workers, female (% of female employment)')\n",
    "plt.ylabel(ylabel = 'Global')\n",
    "plt.show()"
   ]
  },
  {
   "cell_type": "code",
   "execution_count": null,
   "metadata": {},
   "outputs": [],
   "source": [
    "## Histogram for \"Employment to population ratio, 15+, total (%) (modeled ILO estimate)\n",
    "\n",
    "sns.distplot(a     = Dropped_List[\"Employment to population ratio, 15+, total (%) (modeled ILO estimate)\"],\n",
    "             bins  = 'fd',\n",
    "             hist  = True,\n",
    "             kde   = False,\n",
    "             rug   = False,\n",
    "             color = 'black')\n",
    "\n",
    "\n",
    "# this adds a title\n",
    "plt.title(label = \"Employment to population ratio, 15+, total (%) (modeled ILO estimate)\")\n",
    "\n",
    "\n",
    "# this adds an x-label\n",
    "plt.xlabel(xlabel = 'Employment to polulation')\n",
    "\n",
    "\n",
    "# this add a y-label\n",
    "##plt.ylabel(ylabel = 'Frecuency')"
   ]
  },
  {
   "cell_type": "code",
   "execution_count": null,
   "metadata": {},
   "outputs": [],
   "source": [
    "## Boxplot sns for \"Employment to population ratio, 15+, total (%) (modeled ILO estimate)\n",
    "\n",
    "fig, ax = plt.subplots(figsize = (10, 5))\n",
    "\n",
    "\n",
    "# developing a boxplot for Employment to population ratio, 15+, total (%) (modeled ILO estimate)\n",
    "\n",
    "sns.boxplot(x      = 'Employment to population ratio, 15+, total (%) (modeled ILO estimate)',   # x-variable\n",
    "            y      = None, # optional y-variable\n",
    "            hue    = None,      # optional categorical feature\n",
    "            orient = 'h',       # horizontal or vertical\n",
    "            data   = Dropped_List)  # DataFrame where features exist\n",
    "\n",
    "\n",
    "# formatting and displaying the plot\n",
    "plt.title(label   = \"\"\"\n",
    "\n",
    "\"\"\")\n",
    "\n",
    "plt.xlabel(xlabel = 'Employment to population ratio, 15+, total (%) (modeled ILO estimate)')\n",
    "plt.ylabel(ylabel = 'Global')\n",
    "plt.show()"
   ]
  },
  {
   "cell_type": "code",
   "execution_count": null,
   "metadata": {},
   "outputs": [],
   "source": [
    "## Histogram for Proportion of seats held by women in national parliaments (%)\n",
    "\n",
    "sns.distplot(a     = Dropped_List[\"Proportion of seats held by women in national parliaments (%)\"],\n",
    "             bins  = 'fd',\n",
    "             hist  = True,\n",
    "             kde   = False,\n",
    "             rug   = False,\n",
    "             color = 'black')\n",
    "\n",
    "\n",
    "# this adds a title\n",
    "plt.title(label = \"Proportion of seats held by women in national parliaments (%)\")\n",
    "\n",
    "\n",
    "# this adds an x-label\n",
    "plt.xlabel(xlabel = 'Seats Held By Women')\n",
    "\n",
    "\n",
    "# this add a y-label\n",
    "plt.ylabel(ylabel = 'Frecuency')"
   ]
  },
  {
   "cell_type": "code",
   "execution_count": null,
   "metadata": {
    "code_folding": []
   },
   "outputs": [],
   "source": [
    "fig, ax = plt.subplots(figsize = (10, 5))\n",
    "\n",
    "\n",
    "# developing a boxplot for Proportion of seats held by women in national parliaments (%)\n",
    "\n",
    "sns.boxplot(x      = 'Proportion of seats held by women in national parliaments (%)',   # x-variable\n",
    "            y      = None, # optional y-variable\n",
    "            hue    = None,      # optional categorical feature\n",
    "            orient = 'h',       # horizontal or vertical\n",
    "            data   = Dropped_List)  # DataFrame where features exist\n",
    "\n",
    "\n",
    "# formatting and displaying the plot\n",
    "plt.title(label   = \"\"\"\n",
    "\n",
    "\"\"\")\n",
    "\n",
    "plt.xlabel(xlabel = 'Proportion of seats held by women in national parliaments (%)')\n",
    "plt.ylabel(ylabel = 'Global')\n",
    "plt.show()"
   ]
  },
  {
   "cell_type": "code",
   "execution_count": null,
   "metadata": {},
   "outputs": [],
   "source": [
    "## developing a histogram for GDP per person employed (constant 2011 PPP $)\n",
    "\n",
    "sns.distplot(a     = Dropped_List[\"GDP per person employed (constant 2011 PPP $)\"],\n",
    "             bins  = 'fd',\n",
    "             hist  = True,\n",
    "             kde   = False,\n",
    "             rug   = False,\n",
    "             color = 'black')\n",
    "\n",
    "\n",
    "# this adds a title\n",
    "plt.title(label = \"GDP per person employed (constant 2011 PPP $)\")\n",
    "\n",
    "\n",
    "# this adds an x-label\n",
    "plt.xlabel(xlabel = 'GDP Per Person')\n",
    "\n",
    "\n",
    "# this add a y-label\n",
    "plt.ylabel(ylabel = 'Frecuency')"
   ]
  },
  {
   "cell_type": "code",
   "execution_count": null,
   "metadata": {},
   "outputs": [],
   "source": [
    "fig, ax = plt.subplots(figsize = (10, 5))\n",
    "\n",
    "## developing a boxplot for GDP per person employed (constant 2011 PPP $)\n",
    "\n",
    "sns.boxplot(x      = 'GDP per person employed (constant 2011 PPP $)',   # x-variable\n",
    "            y      = None, # optional y-variable\n",
    "            hue    = None,      # optional categorical feature\n",
    "            orient = 'h',       # horizontal or vertical\n",
    "            data   = Dropped_List)  # DataFrame where features exist\n",
    "\n",
    "\n",
    "# formatting and displaying the plot\n",
    "plt.title(label   = \"\"\"\n",
    "\n",
    "\"\"\")\n",
    "\n",
    "plt.xlabel(xlabel = 'GDP per person employed (constant 2011 PPP $)')\n",
    "plt.ylabel(ylabel = 'Global')\n",
    "plt.show()"
   ]
  },
  {
   "cell_type": "code",
   "execution_count": null,
   "metadata": {},
   "outputs": [],
   "source": [
    "# developing a histogram for Mobile cellular subscriptions (per 100 people)\n",
    "\n",
    "sns.distplot(a     = Dropped_List[\"Mobile cellular subscriptions (per 100 people)\"],\n",
    "             bins  = 'fd',\n",
    "             hist  = True,\n",
    "             kde   = False,\n",
    "             rug   = False,\n",
    "             color = 'black')\n",
    "\n",
    "\n",
    "# this adds a title\n",
    "plt.title(label = \"Mobile cellular subscriptions (per 100 people)\")\n",
    "\n",
    "\n",
    "# this adds an x-label\n",
    "plt.xlabel(xlabel = 'Cellular Usage Per Person')\n",
    "\n",
    "\n",
    "# this add a y-label\n",
    "plt.ylabel(ylabel = 'Frecuency')"
   ]
  },
  {
   "cell_type": "code",
   "execution_count": null,
   "metadata": {},
   "outputs": [],
   "source": [
    "fig, ax = plt.subplots(figsize = (10, 5))\n",
    "\n",
    "\n",
    "# developing a boxplot for Mobile cellular subscriptions (per 100 people)\n",
    "\n",
    "sns.boxplot(x      = 'Mobile cellular subscriptions (per 100 people)',   # x-variable\n",
    "            y      = None, # optional y-variable\n",
    "            hue    = None,      # optional categorical feature\n",
    "            orient = 'h',       # horizontal or vertical\n",
    "            data   = Dropped_List)  # DataFrame where features exist\n",
    "\n",
    "\n",
    "# formatting and displaying the plot\n",
    "plt.title(label   = \"\"\"\n",
    "\n",
    "\"\"\")\n",
    "\n",
    "plt.xlabel(xlabel = 'GMobile cellular subscriptions (per 100 people)')\n",
    "plt.ylabel(ylabel = 'Global')\n",
    "plt.show()"
   ]
  },
  {
   "cell_type": "code",
   "execution_count": null,
   "metadata": {},
   "outputs": [],
   "source": []
  },
  {
   "cell_type": "code",
   "execution_count": null,
   "metadata": {},
   "outputs": [],
   "source": [
    "Clean_Data_Global_corr1 = Dropped_List[[\"Contributing family workers, female (% of female employment)\",\n",
    "                \"Contributing family workers, male (% of male employment)\",\n",
    "                \"Contributing family workers, total (% of total employment)\",\n",
    "                \"Employment to population ratio, 15+, female (%) (modeled ILO estimate)\",\n",
    "                \"Employment to population ratio, 15+, male (%) (modeled ILO estimate)\",\n",
    "                \"Employment to population ratio, 15+, total (%) (modeled ILO estimate)\",\n",
    "                \"Proportion of seats held by women in national parliaments (%)\",\n",
    "                \"Self-employed, total (% of total employment)\",\n",
    "                \"Population, total\",\n",
    "                \"GDP per person employed (constant 2011 PPP $)\",\n",
    "                \"GDP per unit of energy use (constant 2011 PPP $ per kg of oil equivalent)\",\n",
    "                \"Income share held by lowest 20%\",\n",
    "                \"Trade (% of GDP)\",\"School enrollment, primary (% net)\", \"Mobile cellular subscriptions (per 100 people)\",\n",
    "                                     \"Internet users (per 100 people)\"  ]].head(n = 19)\n",
    "\n",
    "Clean_Data_Global_corr = Clean_Data_Global_corr1.corr(method = 'pearson').round(decimals = 2)\n",
    "\n",
    "fig, ax = plt.subplots(figsize=(20,20))\n",
    "\n",
    "\n",
    "# developing a spicy heatmap\n",
    "sns.heatmap(data       = Clean_Data_Global_corr, # the correlation matrix\n",
    "            cmap       = 'inferno',     # changing to SPICY colors\n",
    "            square     = True,          # tightening the layout\n",
    "            annot      = True,          # should there be numbers in the heatmap\n",
    "            linecolor  = 'black',       # lines between boxes\n",
    "            linewidths = 0.5,           # how thick should the lines be?\n",
    "            annot_kws={\"size\":15})           \n",
    "                 \n",
    "\n",
    "# title and displaying the plot\n",
    "plt.title(\"\"\"\n",
    "Linear Correlation Heatmap for Eastern Europe Features\n",
    "\"\"\")\n",
    "\n",
    "plt.show()"
   ]
  },
  {
   "cell_type": "markdown",
   "metadata": {},
   "source": [
    "# Above Analysis was based on a global context-:\n",
    " \n",
    "The analysis is focus on the economics from the metadata\n",
    "  \n",
    "We identified the best parameters from our region to compare with the world \n",
    " \n",
    "Analysis based on the correaltions and best 5 variables derived from that method\n",
    "\n",
    "###############################################################################\n",
    "\n",
    "###############################################################################\n",
    "\n",
    "# Regional Analysis followed by below this code:\n"
   ]
  },
  {
   "cell_type": "code",
   "execution_count": null,
   "metadata": {},
   "outputs": [],
   "source": [
    "# We complete whith data from internet\n",
    "\n",
    "import pandas as pd\n",
    "import seaborn as sns\n",
    "import numpy as np\n",
    "import matplotlib.pyplot as plt\n",
    "file = \"./Final_Project_Dataset.xlsx\"\n",
    "\n",
    "Project = pd.read_excel(io         =   file,\n",
    "                        sheet_name =   'Data',\n",
    "                        header     =    0)\n",
    "\n",
    "#we subset for the \"cool name\"\n",
    "Selected_Data = Project.loc[ : , : ][Project.loc[ : , 'Cool Name'] == 'Skids & Mudflap']\n",
    "Selected_Data"
   ]
  },
  {
   "cell_type": "code",
   "execution_count": null,
   "metadata": {},
   "outputs": [],
   "source": [
    "New_Data = Selected_Data.drop([212,4,173]) #We put aways the countries that have too many missing values\n",
    "New_Data #check the new data, we can skip this step"
   ]
  },
  {
   "cell_type": "code",
   "execution_count": null,
   "metadata": {},
   "outputs": [],
   "source": [
    "print(Selected_Data.isnull().sum(axis = 1)) #check for missing values per row\n",
    "#we should change the number for the name of the country"
   ]
  },
  {
   "cell_type": "code",
   "execution_count": null,
   "metadata": {},
   "outputs": [],
   "source": [
    "print(New_Data.isnull().sum()) #check for missing values per column"
   ]
  },
  {
   "cell_type": "code",
   "execution_count": null,
   "metadata": {},
   "outputs": [],
   "source": []
  },
  {
   "cell_type": "code",
   "execution_count": null,
   "metadata": {},
   "outputs": [],
   "source": [
    "#put away the columns with too many missing values\n",
    "Drop_List_Columns = [\"Literacy rate, adult total (% of people ages 15 and above)\",\n",
    "                    \"Net ODA received per capita (current US$)\",\n",
    "                   \"Poverty gap at national poverty lines (%)\",\n",
    "                   \"Pregnant women receiving prenatal care (%)\",\n",
    "                   \"Reported cases of malaria\"]\n",
    "\n",
    "Dropped_List = New_Data.drop(Drop_List_Columns,axis = 1) #subseting columns\n",
    "Dropped_List.round(decimals = 3)\n",
    "\n",
    "pd.set_option('display.max_columns', None)#visualize the new data\n",
    "Dropped_List"
   ]
  },
  {
   "cell_type": "code",
   "execution_count": null,
   "metadata": {},
   "outputs": [],
   "source": []
  },
  {
   "cell_type": "code",
   "execution_count": null,
   "metadata": {},
   "outputs": [],
   "source": [
    "Clean_Data_Region = Dropped_List[[\"Country Name\",\"Contributing family workers, female (% of female employment)\",\n",
    "                \"Contributing family workers, male (% of male employment)\",\n",
    "                \"Contributing family workers, total (% of total employment)\",\n",
    "                \"Employment to population ratio, 15+, female (%) (modeled ILO estimate)\",\n",
    "                \"Employment to population ratio, 15+, male (%) (modeled ILO estimate)\",\n",
    "                \"Employment to population ratio, 15+, total (%) (modeled ILO estimate)\",\n",
    "                \"Proportion of seats held by women in national parliaments (%)\",\n",
    "                \"Self-employed, total (% of total employment)\",\n",
    "                \"Population, total\",\n",
    "                \"GDP per person employed (constant 2011 PPP $)\",\n",
    "                \"GDP per unit of energy use (constant 2011 PPP $ per kg of oil equivalent)\",\n",
    "                \"Income share held by lowest 20%\",\"Mobile cellular subscriptions (per 100 people)\",\n",
    "                \"Trade (% of GDP)\"]].head(n = 19)\n",
    "Clean_Data_Region.round(decimals = 2)\n",
    "\n",
    "#Poland is the avg country\n",
    "#We need to delete some colums\n",
    "#the analysis is focus on the economics"
   ]
  },
  {
   "cell_type": "code",
   "execution_count": null,
   "metadata": {},
   "outputs": [],
   "source": []
  },
  {
   "cell_type": "code",
   "execution_count": null,
   "metadata": {},
   "outputs": [],
   "source": [
    "Clean_Data_Region.describe().round(decimals =2) #Cleaning data to represent changes"
   ]
  },
  {
   "cell_type": "code",
   "execution_count": null,
   "metadata": {},
   "outputs": [],
   "source": []
  },
  {
   "cell_type": "code",
   "execution_count": null,
   "metadata": {},
   "outputs": [],
   "source": [
    "diferenceC1 = []\n",
    "mean = Clean_Data_Region[\"Contributing family workers, total (% of total employment)\"].mean()\n",
    "for  value in Clean_Data_Region[\"Contributing family workers, total (% of total employment)\"]:\n",
    "    diff = value -  mean\n",
    "    diferenceC1.append(diff)\n",
    "\n",
    "diferenceC1\n",
    "#we apply this code to all the columns and after that we realize that Poland was the closer one to the mean "
   ]
  },
  {
   "cell_type": "code",
   "execution_count": null,
   "metadata": {},
   "outputs": [],
   "source": []
  },
  {
   "cell_type": "code",
   "execution_count": null,
   "metadata": {},
   "outputs": [],
   "source": [
    "print(Clean_Data_Region.isnull().sum()) #Checking for missing valaues in the new data"
   ]
  },
  {
   "cell_type": "code",
   "execution_count": null,
   "metadata": {},
   "outputs": [],
   "source": []
  },
  {
   "cell_type": "code",
   "execution_count": null,
   "metadata": {},
   "outputs": [],
   "source": [
    "## Histogram for Contributing family workers, female (% of female employment)\n",
    "\n",
    "sns.distplot(a     = Dropped_List[\"Contributing family workers, female (% of female employment)\"],\n",
    "             bins  = 'fd',\n",
    "             hist  = True,\n",
    "             kde   = False,\n",
    "             rug   = False,\n",
    "             color = 'black')\n",
    "\n",
    "\n",
    "# this adds a title\n",
    "plt.title(label = \"Contributing family workers, female (% of female employment)\")\n",
    "\n",
    "\n",
    "# this adds an x-label\n",
    "plt.xlabel(xlabel = '%of female employment')\n",
    "\n",
    "\n",
    "# this add a y-label\n",
    "plt.ylabel(ylabel = 'Frecuency')\n",
    "\n"
   ]
  },
  {
   "cell_type": "code",
   "execution_count": null,
   "metadata": {},
   "outputs": [],
   "source": []
  },
  {
   "cell_type": "code",
   "execution_count": null,
   "metadata": {},
   "outputs": [],
   "source": [
    "## BoxPlot with sns for Contributing family workers, female (% of female employment)\n",
    "\n",
    "fig, ax = plt.subplots(figsize = (10, 5))\n",
    "\n",
    "\n",
    "# developing a boxplot for 'Contributing family workers, female (% of female employment)\n",
    "sns.boxplot(x      = 'Contributing family workers, female (% of female employment)',   # x-variable\n",
    "            y      = None, # optional y-variable\n",
    "            hue    = None,      # optional categorical feature\n",
    "            orient = 'h',       # horizontal or vertical\n",
    "            data   = Dropped_List)  # DataFrame where features exist\n",
    "\n",
    "\n",
    "# formatting and displaying the plot\n",
    "plt.title(label   = \"\"\"\n",
    "\n",
    "\"\"\")\n",
    "\n",
    "plt.xlabel(xlabel = 'Contributing family workers, female (% of female employment)')\n",
    "plt.ylabel(ylabel = 'Regional')\n",
    "plt.show()"
   ]
  },
  {
   "cell_type": "code",
   "execution_count": null,
   "metadata": {},
   "outputs": [],
   "source": []
  },
  {
   "cell_type": "code",
   "execution_count": null,
   "metadata": {},
   "outputs": [],
   "source": [
    "## Histogram for \"Income share held by lowest 20%\"\n",
    "\n",
    "sns.distplot(a     = Dropped_List[\"Income share held by lowest 20%\"],\n",
    "             bins  = 'fd',\n",
    "             hist  = True,\n",
    "             kde   = False,\n",
    "             rug   = False,\n",
    "             color = 'black')\n",
    "\n",
    "\n",
    "# this adds a title\n",
    "plt.title(label = \"Income share held by lowest 20%\")\n",
    "\n",
    "\n",
    "# this adds an x-label\n",
    "plt.xlabel(xlabel = 'Income share held by lowest 20%')\n",
    "\n",
    "\n",
    "# this add a y-label\n",
    "plt.ylabel(ylabel = 'Frecuency')"
   ]
  },
  {
   "cell_type": "code",
   "execution_count": null,
   "metadata": {},
   "outputs": [],
   "source": []
  },
  {
   "cell_type": "code",
   "execution_count": null,
   "metadata": {},
   "outputs": [],
   "source": [
    "## BoxPlot with sns for 'Income share held by lowest 20%'\n",
    "\n",
    "fig, ax = plt.subplots(figsize = (10, 5))\n",
    "\n",
    "\n",
    "# developing a boxplot for 'Income share held by lowest 20%'\n",
    "sns.boxplot(x      = 'Income share held by lowest 20%',   # x-variable\n",
    "            y      = None, # optional y-variable\n",
    "            hue    = None,      # optional categorical feature\n",
    "            orient = 'h',       # horizontal or vertical\n",
    "            data   = Dropped_List)  # DataFrame where features exist\n",
    "\n",
    "\n",
    "# formatting and displaying the plot\n",
    "plt.title(label   = \"\"\"\n",
    "\n",
    "\"\"\")\n",
    "\n",
    "plt.xlabel(xlabel = 'Income share held by lowest 20%')\n",
    "plt.ylabel(ylabel = 'Regional')\n",
    "plt.show()"
   ]
  },
  {
   "cell_type": "code",
   "execution_count": null,
   "metadata": {},
   "outputs": [],
   "source": []
  },
  {
   "cell_type": "code",
   "execution_count": null,
   "metadata": {},
   "outputs": [],
   "source": [
    "## Histogram for Employment to population ratio, 15+, total (%) (modeled ILO estimate)\n",
    "\n",
    "sns.distplot(a     = Dropped_List[\"Employment to population ratio, 15+, total (%) (modeled ILO estimate)\"],\n",
    "             bins  = 'fd',\n",
    "             hist  = True,\n",
    "             kde   = False,\n",
    "             rug   = False,\n",
    "             color = 'black')\n",
    "\n",
    "\n",
    "# this adds a title\n",
    "plt.title(label = \"Employment to population ratio, 15+, total (%) (modeled ILO estimate)\")\n",
    "\n",
    "\n",
    "# this adds an x-label\n",
    "plt.xlabel(xlabel = 'Employment to population ratio, 15+, total (%) (modeled ILO estimate)')\n",
    "\n",
    "\n",
    "# this add a y-label\n",
    "plt.ylabel(ylabel = 'Frecuency')"
   ]
  },
  {
   "cell_type": "code",
   "execution_count": null,
   "metadata": {},
   "outputs": [],
   "source": []
  },
  {
   "cell_type": "code",
   "execution_count": null,
   "metadata": {},
   "outputs": [],
   "source": [
    "## BoxPlot with sns for 'Employment to population ratio, 15+, total (%) (modeled ILO estimate)\n",
    "\n",
    "fig, ax = plt.subplots(figsize = (10, 5))\n",
    "\n",
    "\n",
    "# developing a boxplot for Employment to population ratio, 15+, total (%) (modeled ILO estimate)\n",
    "sns.boxplot(x      = 'Employment to population ratio, 15+, total (%) (modeled ILO estimate)',   # x-variable\n",
    "            y      = None, # optional y-variable\n",
    "            hue    = None,      # optional categorical feature\n",
    "            orient = 'h',       # horizontal or vertical\n",
    "            data   = Dropped_List)  # DataFrame where features exist\n",
    "\n",
    "\n",
    "# formatting and displaying the plot\n",
    "plt.title(label   = \"\"\"\n",
    "\n",
    "\"\"\")\n",
    "\n",
    "plt.xlabel(xlabel = 'Employment to population ratio, 15+, total (%) (modeled ILO estimate)')\n",
    "plt.ylabel(ylabel = 'Regional')\n",
    "plt.show()"
   ]
  },
  {
   "cell_type": "code",
   "execution_count": null,
   "metadata": {},
   "outputs": [],
   "source": []
  },
  {
   "cell_type": "code",
   "execution_count": null,
   "metadata": {},
   "outputs": [],
   "source": [
    "## Histogram for Proportion of seats held by women in national parliaments (%)\n",
    "\n",
    "sns.distplot(a     = Dropped_List[\"Proportion of seats held by women in national parliaments (%)\"],\n",
    "             bins  = 'fd',\n",
    "             hist  = True,\n",
    "             kde   = False,\n",
    "             rug   = False,\n",
    "             color = 'black')\n",
    "\n",
    "\n",
    "# this adds a title\n",
    "plt.title(label = \"Proportion of seats held by women in national parliaments (%)\")\n",
    "\n",
    "\n",
    "# this adds an x-label\n",
    "plt.xlabel(xlabel = 'Proportion of seats held by women in national parliaments (%)')\n",
    "\n",
    "\n",
    "# this add a y-label\n",
    "plt.ylabel(ylabel = 'Frecuency')"
   ]
  },
  {
   "cell_type": "code",
   "execution_count": null,
   "metadata": {},
   "outputs": [],
   "source": [
    "plt.savefig('your_figure2.png')"
   ]
  },
  {
   "cell_type": "code",
   "execution_count": null,
   "metadata": {},
   "outputs": [],
   "source": [
    "## Boxplot with sns for Proportion of seats held by women in national parliaments (%)\n",
    "\n",
    "fig, ax = plt.subplots(figsize = (10, 5))\n",
    "\n",
    "\n",
    "# developing a boxplot for Proportion of seats held by women in national parliaments (%)\n",
    "sns.boxplot(x      = 'Proportion of seats held by women in national parliaments (%)',   # x-variable\n",
    "            y      = None, # optional y-variable\n",
    "            hue    = None,      # optional categorical feature\n",
    "            orient = 'h',       # horizontal or vertical\n",
    "            data   = Dropped_List)  # DataFrame where features exist\n",
    "\n",
    "\n",
    "# formatting and displaying the plot\n",
    "plt.title(label   = \"\"\"\n",
    "\n",
    "\"\"\")\n",
    "\n",
    "plt.xlabel(xlabel = 'Proportion of seats held by women in national parliaments (%)')\n",
    "plt.ylabel(ylabel = 'Regional')\n",
    "plt.show()"
   ]
  },
  {
   "cell_type": "code",
   "execution_count": null,
   "metadata": {},
   "outputs": [],
   "source": []
  },
  {
   "cell_type": "code",
   "execution_count": null,
   "metadata": {},
   "outputs": [],
   "source": [
    "## Histogram for GDP per person employed (constant 2011 PPP $):\n",
    "\n",
    "sns.distplot(a     = Dropped_List[\"GDP per person employed (constant 2011 PPP $)\"],\n",
    "             bins  = 'fd',\n",
    "             hist  = True,\n",
    "             kde   = False,\n",
    "             rug   = False,\n",
    "             color = 'black')\n",
    "\n",
    "\n",
    "# this adds a title\n",
    "plt.title(label = \"GDP per person employed (constant 2011 PPP $)\")\n",
    "\n",
    "\n",
    "# this adds an x-label\n",
    "plt.xlabel(xlabel = 'GDP per person employed (constant 2011 PPP $)')\n",
    "\n",
    "\n",
    "# this add a y-label\n",
    "plt.ylabel(ylabel = 'Frecuency')"
   ]
  },
  {
   "cell_type": "code",
   "execution_count": null,
   "metadata": {},
   "outputs": [],
   "source": []
  },
  {
   "cell_type": "code",
   "execution_count": null,
   "metadata": {},
   "outputs": [],
   "source": [
    "## Boxplot with sns for GDP per person employed (constant 2011 PPP $):\n",
    "\n",
    "fig, ax = plt.subplots(figsize = (10, 5))\n",
    "\n",
    "\n",
    "# developing a boxplot for color\n",
    "sns.boxplot(x      = 'GDP per person employed (constant 2011 PPP $)',   # x-variable\n",
    "            y      = None, # optional y-variable\n",
    "            hue    = None,      # optional categorical feature\n",
    "            orient = 'h',       # horizontal or vertical\n",
    "            data   = Dropped_List)  # DataFrame where features exist\n",
    "\n",
    "\n",
    "# formatting and displaying the plot\n",
    "plt.title(label   = \"\"\"\n",
    "\n",
    "\"\"\")\n",
    "\n",
    "plt.xlabel(xlabel = 'GDP per person employed (constant 2011 PPP $)')\n",
    "plt.ylabel(ylabel = 'Regional')\n",
    "plt.show()"
   ]
  },
  {
   "cell_type": "code",
   "execution_count": null,
   "metadata": {},
   "outputs": [],
   "source": []
  },
  {
   "cell_type": "code",
   "execution_count": null,
   "metadata": {},
   "outputs": [],
   "source": [
    "## Histogram for Mobile cellular subscriptions (per 100 people)\n",
    "\n",
    "sns.distplot(a     = Dropped_List[\"Mobile cellular subscriptions (per 100 people)\"],\n",
    "             bins  = 'fd',\n",
    "             hist  = True,\n",
    "             kde   = False,\n",
    "             rug   = False,\n",
    "             color = 'black')\n",
    "\n",
    "\n",
    "# this adds a title\n",
    "plt.title(label = \"Mobile cellular subscriptions (per 100 people)\")\n",
    "\n",
    "\n",
    "# this adds an x-label\n",
    "plt.xlabel(xlabel = 'Mobile cellular subscriptions (per 100 people)')\n",
    "\n",
    "\n",
    "# this add a y-label\n",
    "plt.ylabel(ylabel = 'Frecuency')"
   ]
  },
  {
   "cell_type": "code",
   "execution_count": null,
   "metadata": {},
   "outputs": [],
   "source": []
  },
  {
   "cell_type": "code",
   "execution_count": null,
   "metadata": {},
   "outputs": [],
   "source": [
    "## Boxplots with sns for Mobile cellular subscriptions (per 100 people)\n",
    "\n",
    "fig, ax = plt.subplots(figsize = (10, 5))\n",
    "\n",
    "\n",
    "# developing a boxplot for color\n",
    "sns.boxplot(x      = 'Mobile cellular subscriptions (per 100 people)',   # x-variable\n",
    "            y      = None, # optional y-variable\n",
    "            hue    = None,      # optional categorical feature\n",
    "            orient = 'h',       # horizontal or vertical\n",
    "            data   = Dropped_List)  # DataFrame where features exist\n",
    "\n",
    "\n",
    "# formatting and displaying the plot\n",
    "plt.title(label   = \"\"\"\n",
    "\n",
    "\"\"\")\n",
    "\n",
    "plt.xlabel(xlabel = 'Mobile cellular subscriptions (per 100 people)')\n",
    "plt.ylabel(ylabel = 'Regional')\n",
    "plt.show()"
   ]
  },
  {
   "cell_type": "code",
   "execution_count": null,
   "metadata": {},
   "outputs": [],
   "source": []
  },
  {
   "cell_type": "code",
   "execution_count": null,
   "metadata": {},
   "outputs": [],
   "source": [
    "Clean_Data_Region_corr1 = Dropped_List[[\"Contributing family workers, female (% of female employment)\",\n",
    "                \"Contributing family workers, male (% of male employment)\",\n",
    "                \"Contributing family workers, total (% of total employment)\",\n",
    "                \"Employment to population ratio, 15+, female (%) (modeled ILO estimate)\",\n",
    "                \"Employment to population ratio, 15+, male (%) (modeled ILO estimate)\",\n",
    "                \"Employment to population ratio, 15+, total (%) (modeled ILO estimate)\",\n",
    "                \"Proportion of seats held by women in national parliaments (%)\",\n",
    "                \"Self-employed, total (% of total employment)\",\n",
    "                \"Population, total\",\n",
    "                \"GDP per person employed (constant 2011 PPP $)\",\n",
    "                \"GDP per unit of energy use (constant 2011 PPP $ per kg of oil equivalent)\",\n",
    "                \"Income share held by lowest 20%\",\n",
    "                \"Trade (% of GDP)\",\"School enrollment, primary (% net)\", \"Mobile cellular subscriptions (per 100 people)\",\n",
    "                                     \"Internet users (per 100 people)\"  ]].head(n = 19)\n",
    "\n",
    "Clean_Data_Region_corr = Clean_Data_Region_corr1.corr(method = 'pearson').round(decimals = 2)\n",
    "\n",
    "fig, ax = plt.subplots(figsize=(20,20))\n",
    "\n",
    "\n",
    "# developing a spicy heatmap\n",
    "sns.heatmap(data       = Clean_Data_Region_corr, # the correlation matrix\n",
    "            cmap       = 'inferno',     # changing to SPICY colors\n",
    "            square     = True,          # tightening the layout\n",
    "            annot      = True,          # should there be numbers in the heatmap\n",
    "            linecolor  = 'black',       # lines between boxes\n",
    "            linewidths = 0.5)          # how thick should the lines be?\n",
    "\n",
    "\n",
    "# title and displaying the plot\n",
    "plt.title(\"\"\"\n",
    "Linear Correlation Heatmap for Eastern Europe Features\n",
    "\"\"\")\n",
    "\n",
    "plt.show()"
   ]
  },
  {
   "cell_type": "markdown",
   "metadata": {},
   "source": [
    "\n",
    "\n",
    "Top 5 Variables that best represent our data/ country/ region \n",
    "\n"
   ]
  },
  {
   "cell_type": "markdown",
   "metadata": {},
   "source": [
    "THE END #CODE ENDED#"
   ]
  },
  {
   "cell_type": "markdown",
   "metadata": {},
   "source": [
    "TEAM 10 FINAL SUBMISSION"
   ]
  },
  {
   "cell_type": "code",
   "execution_count": null,
   "metadata": {},
   "outputs": [],
   "source": []
  },
  {
   "cell_type": "code",
   "execution_count": null,
   "metadata": {},
   "outputs": [],
   "source": []
  }
 ],
 "metadata": {
  "kernelspec": {
   "display_name": "Python 3",
   "language": "python",
   "name": "python3"
  },
  "language_info": {
   "codemirror_mode": {
    "name": "ipython",
    "version": 3
   },
   "file_extension": ".py",
   "mimetype": "text/x-python",
   "name": "python",
   "nbconvert_exporter": "python",
   "pygments_lexer": "ipython3",
   "version": "3.8.3"
  },
  "toc": {
   "base_numbering": 1,
   "nav_menu": {},
   "number_sections": true,
   "sideBar": true,
   "skip_h1_title": false,
   "title_cell": "Table of Contents",
   "title_sidebar": "Contents",
   "toc_cell": false,
   "toc_position": {},
   "toc_section_display": true,
   "toc_window_display": false
  },
  "varInspector": {
   "cols": {
    "lenName": 16,
    "lenType": 16,
    "lenVar": 40
   },
   "kernels_config": {
    "python": {
     "delete_cmd_postfix": "",
     "delete_cmd_prefix": "del ",
     "library": "var_list.py",
     "varRefreshCmd": "print(var_dic_list())"
    },
    "r": {
     "delete_cmd_postfix": ") ",
     "delete_cmd_prefix": "rm(",
     "library": "var_list.r",
     "varRefreshCmd": "cat(var_dic_list()) "
    }
   },
   "types_to_exclude": [
    "module",
    "function",
    "builtin_function_or_method",
    "instance",
    "_Feature"
   ],
   "window_display": false
  }
 },
 "nbformat": 4,
 "nbformat_minor": 4
}
